{
 "cells": [
  {
   "cell_type": "code",
   "execution_count": 1,
   "id": "6238c78b",
   "metadata": {
    "_cell_guid": "b1076dfc-b9ad-4769-8c92-a6c4dae69d19",
    "_uuid": "8f2839f25d086af736a60e9eeb907d3b93b6e0e5",
    "execution": {
     "iopub.execute_input": "2023-04-30T09:15:27.625713Z",
     "iopub.status.busy": "2023-04-30T09:15:27.624366Z",
     "iopub.status.idle": "2023-04-30T09:15:27.646968Z",
     "shell.execute_reply": "2023-04-30T09:15:27.645689Z"
    },
    "papermill": {
     "duration": 0.034662,
     "end_time": "2023-04-30T09:15:27.649800",
     "exception": false,
     "start_time": "2023-04-30T09:15:27.615138",
     "status": "completed"
    },
    "tags": []
   },
   "outputs": [
    {
     "name": "stdout",
     "output_type": "stream",
     "text": [
      "/kaggle/input/student-performance-in-mathematics/exams.csv\n"
     ]
    }
   ],
   "source": [
    "# This Python 3 environment comes with many helpful analytics libraries installed\n",
    "# It is defined by the kaggle/python Docker image: https://github.com/kaggle/docker-python\n",
    "# For example, here's several helpful packages to load\n",
    "\n",
    "import numpy as np # linear algebra\n",
    "import pandas as pd # data processing, CSV file I/O (e.g. pd.read_csv)\n",
    "\n",
    "# Input data files are available in the read-only \"../input/\" directory\n",
    "# For example, running this (by clicking run or pressing Shift+Enter) will list all files under the input directory\n",
    "\n",
    "import os\n",
    "for dirname, _, filenames in os.walk('/kaggle/input'):\n",
    "    for filename in filenames:\n",
    "        print(os.path.join(dirname, filename))\n",
    "\n",
    "# You can write up to 20GB to the current directory (/kaggle/working/) that gets preserved as output when you create a version using \"Save & Run All\" \n",
    "# You can also write temporary files to /kaggle/temp/, but they won't be saved outside of the current session"
   ]
  },
  {
   "cell_type": "code",
   "execution_count": 2,
   "id": "4c76c618",
   "metadata": {
    "execution": {
     "iopub.execute_input": "2023-04-30T09:15:27.663775Z",
     "iopub.status.busy": "2023-04-30T09:15:27.662965Z",
     "iopub.status.idle": "2023-04-30T09:15:30.633331Z",
     "shell.execute_reply": "2023-04-30T09:15:30.631495Z"
    },
    "papermill": {
     "duration": 2.980611,
     "end_time": "2023-04-30T09:15:30.636284",
     "exception": false,
     "start_time": "2023-04-30T09:15:27.655673",
     "status": "completed"
    },
    "tags": []
   },
   "outputs": [],
   "source": [
    "import pandas as pd\n",
    "import numpy as np\n",
    "import matplotlib.pyplot as plt\n",
    "%matplotlib inline\n",
    "import seaborn as sns\n",
    "import warnings\n",
    "import plotly.express as px"
   ]
  },
  {
   "cell_type": "code",
   "execution_count": 3,
   "id": "95cffe74",
   "metadata": {
    "execution": {
     "iopub.execute_input": "2023-04-30T09:15:30.649675Z",
     "iopub.status.busy": "2023-04-30T09:15:30.649233Z",
     "iopub.status.idle": "2023-04-30T09:15:30.698102Z",
     "shell.execute_reply": "2023-04-30T09:15:30.696489Z"
    },
    "papermill": {
     "duration": 0.05893,
     "end_time": "2023-04-30T09:15:30.700979",
     "exception": false,
     "start_time": "2023-04-30T09:15:30.642049",
     "status": "completed"
    },
    "tags": []
   },
   "outputs": [
    {
     "data": {
      "text/html": [
       "<div>\n",
       "<style scoped>\n",
       "    .dataframe tbody tr th:only-of-type {\n",
       "        vertical-align: middle;\n",
       "    }\n",
       "\n",
       "    .dataframe tbody tr th {\n",
       "        vertical-align: top;\n",
       "    }\n",
       "\n",
       "    .dataframe thead th {\n",
       "        text-align: right;\n",
       "    }\n",
       "</style>\n",
       "<table border=\"1\" class=\"dataframe\">\n",
       "  <thead>\n",
       "    <tr style=\"text-align: right;\">\n",
       "      <th></th>\n",
       "      <th>gender</th>\n",
       "      <th>race/ethnicity</th>\n",
       "      <th>parental level of education</th>\n",
       "      <th>lunch</th>\n",
       "      <th>test preparation course</th>\n",
       "      <th>math score</th>\n",
       "      <th>reading score</th>\n",
       "      <th>writing score</th>\n",
       "    </tr>\n",
       "  </thead>\n",
       "  <tbody>\n",
       "    <tr>\n",
       "      <th>0</th>\n",
       "      <td>female</td>\n",
       "      <td>group D</td>\n",
       "      <td>some college</td>\n",
       "      <td>standard</td>\n",
       "      <td>completed</td>\n",
       "      <td>59</td>\n",
       "      <td>70</td>\n",
       "      <td>78</td>\n",
       "    </tr>\n",
       "    <tr>\n",
       "      <th>1</th>\n",
       "      <td>male</td>\n",
       "      <td>group D</td>\n",
       "      <td>associate's degree</td>\n",
       "      <td>standard</td>\n",
       "      <td>none</td>\n",
       "      <td>96</td>\n",
       "      <td>93</td>\n",
       "      <td>87</td>\n",
       "    </tr>\n",
       "    <tr>\n",
       "      <th>2</th>\n",
       "      <td>female</td>\n",
       "      <td>group D</td>\n",
       "      <td>some college</td>\n",
       "      <td>free/reduced</td>\n",
       "      <td>none</td>\n",
       "      <td>57</td>\n",
       "      <td>76</td>\n",
       "      <td>77</td>\n",
       "    </tr>\n",
       "    <tr>\n",
       "      <th>3</th>\n",
       "      <td>male</td>\n",
       "      <td>group B</td>\n",
       "      <td>some college</td>\n",
       "      <td>free/reduced</td>\n",
       "      <td>none</td>\n",
       "      <td>70</td>\n",
       "      <td>70</td>\n",
       "      <td>63</td>\n",
       "    </tr>\n",
       "    <tr>\n",
       "      <th>4</th>\n",
       "      <td>female</td>\n",
       "      <td>group D</td>\n",
       "      <td>associate's degree</td>\n",
       "      <td>standard</td>\n",
       "      <td>none</td>\n",
       "      <td>83</td>\n",
       "      <td>85</td>\n",
       "      <td>86</td>\n",
       "    </tr>\n",
       "    <tr>\n",
       "      <th>...</th>\n",
       "      <td>...</td>\n",
       "      <td>...</td>\n",
       "      <td>...</td>\n",
       "      <td>...</td>\n",
       "      <td>...</td>\n",
       "      <td>...</td>\n",
       "      <td>...</td>\n",
       "      <td>...</td>\n",
       "    </tr>\n",
       "    <tr>\n",
       "      <th>995</th>\n",
       "      <td>male</td>\n",
       "      <td>group C</td>\n",
       "      <td>some college</td>\n",
       "      <td>standard</td>\n",
       "      <td>none</td>\n",
       "      <td>77</td>\n",
       "      <td>77</td>\n",
       "      <td>71</td>\n",
       "    </tr>\n",
       "    <tr>\n",
       "      <th>996</th>\n",
       "      <td>male</td>\n",
       "      <td>group C</td>\n",
       "      <td>some college</td>\n",
       "      <td>standard</td>\n",
       "      <td>none</td>\n",
       "      <td>80</td>\n",
       "      <td>66</td>\n",
       "      <td>66</td>\n",
       "    </tr>\n",
       "    <tr>\n",
       "      <th>997</th>\n",
       "      <td>female</td>\n",
       "      <td>group A</td>\n",
       "      <td>high school</td>\n",
       "      <td>standard</td>\n",
       "      <td>completed</td>\n",
       "      <td>67</td>\n",
       "      <td>86</td>\n",
       "      <td>86</td>\n",
       "    </tr>\n",
       "    <tr>\n",
       "      <th>998</th>\n",
       "      <td>male</td>\n",
       "      <td>group E</td>\n",
       "      <td>high school</td>\n",
       "      <td>standard</td>\n",
       "      <td>none</td>\n",
       "      <td>80</td>\n",
       "      <td>72</td>\n",
       "      <td>62</td>\n",
       "    </tr>\n",
       "    <tr>\n",
       "      <th>999</th>\n",
       "      <td>male</td>\n",
       "      <td>group D</td>\n",
       "      <td>high school</td>\n",
       "      <td>standard</td>\n",
       "      <td>none</td>\n",
       "      <td>58</td>\n",
       "      <td>47</td>\n",
       "      <td>45</td>\n",
       "    </tr>\n",
       "  </tbody>\n",
       "</table>\n",
       "<p>1000 rows × 8 columns</p>\n",
       "</div>"
      ],
      "text/plain": [
       "     gender race/ethnicity parental level of education         lunch  \\\n",
       "0    female        group D                some college      standard   \n",
       "1      male        group D          associate's degree      standard   \n",
       "2    female        group D                some college  free/reduced   \n",
       "3      male        group B                some college  free/reduced   \n",
       "4    female        group D          associate's degree      standard   \n",
       "..      ...            ...                         ...           ...   \n",
       "995    male        group C                some college      standard   \n",
       "996    male        group C                some college      standard   \n",
       "997  female        group A                 high school      standard   \n",
       "998    male        group E                 high school      standard   \n",
       "999    male        group D                 high school      standard   \n",
       "\n",
       "    test preparation course  math score  reading score  writing score  \n",
       "0                 completed          59             70             78  \n",
       "1                      none          96             93             87  \n",
       "2                      none          57             76             77  \n",
       "3                      none          70             70             63  \n",
       "4                      none          83             85             86  \n",
       "..                      ...         ...            ...            ...  \n",
       "995                    none          77             77             71  \n",
       "996                    none          80             66             66  \n",
       "997               completed          67             86             86  \n",
       "998                    none          80             72             62  \n",
       "999                    none          58             47             45  \n",
       "\n",
       "[1000 rows x 8 columns]"
      ]
     },
     "execution_count": 3,
     "metadata": {},
     "output_type": "execute_result"
    }
   ],
   "source": [
    "data=pd.read_csv(\"/kaggle/input/student-performance-in-mathematics/exams.csv\")\n",
    "data"
   ]
  },
  {
   "cell_type": "code",
   "execution_count": 4,
   "id": "59d86727",
   "metadata": {
    "execution": {
     "iopub.execute_input": "2023-04-30T09:15:30.714843Z",
     "iopub.status.busy": "2023-04-30T09:15:30.714391Z",
     "iopub.status.idle": "2023-04-30T09:15:30.725075Z",
     "shell.execute_reply": "2023-04-30T09:15:30.723673Z"
    },
    "papermill": {
     "duration": 0.020492,
     "end_time": "2023-04-30T09:15:30.727652",
     "exception": false,
     "start_time": "2023-04-30T09:15:30.707160",
     "status": "completed"
    },
    "tags": []
   },
   "outputs": [
    {
     "data": {
      "text/plain": [
       "gender                         0\n",
       "race/ethnicity                 0\n",
       "parental level of education    0\n",
       "lunch                          0\n",
       "test preparation course        0\n",
       "math score                     0\n",
       "reading score                  0\n",
       "writing score                  0\n",
       "dtype: int64"
      ]
     },
     "execution_count": 4,
     "metadata": {},
     "output_type": "execute_result"
    }
   ],
   "source": [
    "data.isnull().sum()"
   ]
  },
  {
   "cell_type": "markdown",
   "id": "2548fe14",
   "metadata": {
    "papermill": {
     "duration": 0.005782,
     "end_time": "2023-04-30T09:15:30.739561",
     "exception": false,
     "start_time": "2023-04-30T09:15:30.733779",
     "status": "completed"
    },
    "tags": []
   },
   "source": [
    "\n",
    "# **Students who are successful in 70 or more exams in all exams**\n"
   ]
  },
  {
   "cell_type": "code",
   "execution_count": 5,
   "id": "08e0fa78",
   "metadata": {
    "execution": {
     "iopub.execute_input": "2023-04-30T09:15:30.753911Z",
     "iopub.status.busy": "2023-04-30T09:15:30.753471Z",
     "iopub.status.idle": "2023-04-30T09:15:30.761012Z",
     "shell.execute_reply": "2023-04-30T09:15:30.759753Z"
    },
    "papermill": {
     "duration": 0.017888,
     "end_time": "2023-04-30T09:15:30.763573",
     "exception": false,
     "start_time": "2023-04-30T09:15:30.745685",
     "status": "completed"
    },
    "tags": []
   },
   "outputs": [],
   "source": [
    "def dataa(x,y,m):\n",
    "    for i in data[\"math score\"]:\n",
    "        if i>=x:\n",
    "            a=data[data[\"math score\"]>=x]\n",
    "            for k in a[\"reading score\"]:\n",
    "                if k>=y:\n",
    "                    b=data[data[\"reading score\"]>=y]\n",
    "                    for x in b[\"writing score\"]:\n",
    "                        if x>=m:\n",
    "                            z=data[data[\"writing score\"]>=m]\n",
    "                            return z\n",
    "                        "
   ]
  },
  {
   "cell_type": "code",
   "execution_count": 6,
   "id": "d366470e",
   "metadata": {
    "execution": {
     "iopub.execute_input": "2023-04-30T09:15:30.778454Z",
     "iopub.status.busy": "2023-04-30T09:15:30.777238Z",
     "iopub.status.idle": "2023-04-30T09:15:30.789880Z",
     "shell.execute_reply": "2023-04-30T09:15:30.788453Z"
    },
    "papermill": {
     "duration": 0.022902,
     "end_time": "2023-04-30T09:15:30.792650",
     "exception": false,
     "start_time": "2023-04-30T09:15:30.769748",
     "status": "completed"
    },
    "tags": []
   },
   "outputs": [],
   "source": [
    "data_success=dataa(70,70,70)"
   ]
  },
  {
   "cell_type": "code",
   "execution_count": 7,
   "id": "f071acdc",
   "metadata": {
    "execution": {
     "iopub.execute_input": "2023-04-30T09:15:30.806864Z",
     "iopub.status.busy": "2023-04-30T09:15:30.806379Z",
     "iopub.status.idle": "2023-04-30T09:15:30.823592Z",
     "shell.execute_reply": "2023-04-30T09:15:30.822595Z"
    },
    "papermill": {
     "duration": 0.027473,
     "end_time": "2023-04-30T09:15:30.826250",
     "exception": false,
     "start_time": "2023-04-30T09:15:30.798777",
     "status": "completed"
    },
    "tags": []
   },
   "outputs": [
    {
     "data": {
      "text/html": [
       "<div>\n",
       "<style scoped>\n",
       "    .dataframe tbody tr th:only-of-type {\n",
       "        vertical-align: middle;\n",
       "    }\n",
       "\n",
       "    .dataframe tbody tr th {\n",
       "        vertical-align: top;\n",
       "    }\n",
       "\n",
       "    .dataframe thead th {\n",
       "        text-align: right;\n",
       "    }\n",
       "</style>\n",
       "<table border=\"1\" class=\"dataframe\">\n",
       "  <thead>\n",
       "    <tr style=\"text-align: right;\">\n",
       "      <th></th>\n",
       "      <th>gender</th>\n",
       "      <th>race/ethnicity</th>\n",
       "      <th>parental level of education</th>\n",
       "      <th>lunch</th>\n",
       "      <th>test preparation course</th>\n",
       "      <th>math score</th>\n",
       "      <th>reading score</th>\n",
       "      <th>writing score</th>\n",
       "    </tr>\n",
       "  </thead>\n",
       "  <tbody>\n",
       "    <tr>\n",
       "      <th>0</th>\n",
       "      <td>female</td>\n",
       "      <td>group D</td>\n",
       "      <td>some college</td>\n",
       "      <td>standard</td>\n",
       "      <td>completed</td>\n",
       "      <td>59</td>\n",
       "      <td>70</td>\n",
       "      <td>78</td>\n",
       "    </tr>\n",
       "    <tr>\n",
       "      <th>1</th>\n",
       "      <td>male</td>\n",
       "      <td>group D</td>\n",
       "      <td>associate's degree</td>\n",
       "      <td>standard</td>\n",
       "      <td>none</td>\n",
       "      <td>96</td>\n",
       "      <td>93</td>\n",
       "      <td>87</td>\n",
       "    </tr>\n",
       "    <tr>\n",
       "      <th>2</th>\n",
       "      <td>female</td>\n",
       "      <td>group D</td>\n",
       "      <td>some college</td>\n",
       "      <td>free/reduced</td>\n",
       "      <td>none</td>\n",
       "      <td>57</td>\n",
       "      <td>76</td>\n",
       "      <td>77</td>\n",
       "    </tr>\n",
       "    <tr>\n",
       "      <th>4</th>\n",
       "      <td>female</td>\n",
       "      <td>group D</td>\n",
       "      <td>associate's degree</td>\n",
       "      <td>standard</td>\n",
       "      <td>none</td>\n",
       "      <td>83</td>\n",
       "      <td>85</td>\n",
       "      <td>86</td>\n",
       "    </tr>\n",
       "    <tr>\n",
       "      <th>6</th>\n",
       "      <td>female</td>\n",
       "      <td>group E</td>\n",
       "      <td>associate's degree</td>\n",
       "      <td>standard</td>\n",
       "      <td>none</td>\n",
       "      <td>82</td>\n",
       "      <td>83</td>\n",
       "      <td>80</td>\n",
       "    </tr>\n",
       "    <tr>\n",
       "      <th>...</th>\n",
       "      <td>...</td>\n",
       "      <td>...</td>\n",
       "      <td>...</td>\n",
       "      <td>...</td>\n",
       "      <td>...</td>\n",
       "      <td>...</td>\n",
       "      <td>...</td>\n",
       "      <td>...</td>\n",
       "    </tr>\n",
       "    <tr>\n",
       "      <th>991</th>\n",
       "      <td>female</td>\n",
       "      <td>group A</td>\n",
       "      <td>associate's degree</td>\n",
       "      <td>standard</td>\n",
       "      <td>none</td>\n",
       "      <td>72</td>\n",
       "      <td>77</td>\n",
       "      <td>77</td>\n",
       "    </tr>\n",
       "    <tr>\n",
       "      <th>993</th>\n",
       "      <td>male</td>\n",
       "      <td>group D</td>\n",
       "      <td>some high school</td>\n",
       "      <td>standard</td>\n",
       "      <td>none</td>\n",
       "      <td>83</td>\n",
       "      <td>74</td>\n",
       "      <td>80</td>\n",
       "    </tr>\n",
       "    <tr>\n",
       "      <th>994</th>\n",
       "      <td>female</td>\n",
       "      <td>group B</td>\n",
       "      <td>associate's degree</td>\n",
       "      <td>standard</td>\n",
       "      <td>none</td>\n",
       "      <td>82</td>\n",
       "      <td>97</td>\n",
       "      <td>90</td>\n",
       "    </tr>\n",
       "    <tr>\n",
       "      <th>995</th>\n",
       "      <td>male</td>\n",
       "      <td>group C</td>\n",
       "      <td>some college</td>\n",
       "      <td>standard</td>\n",
       "      <td>none</td>\n",
       "      <td>77</td>\n",
       "      <td>77</td>\n",
       "      <td>71</td>\n",
       "    </tr>\n",
       "    <tr>\n",
       "      <th>997</th>\n",
       "      <td>female</td>\n",
       "      <td>group A</td>\n",
       "      <td>high school</td>\n",
       "      <td>standard</td>\n",
       "      <td>completed</td>\n",
       "      <td>67</td>\n",
       "      <td>86</td>\n",
       "      <td>86</td>\n",
       "    </tr>\n",
       "  </tbody>\n",
       "</table>\n",
       "<p>513 rows × 8 columns</p>\n",
       "</div>"
      ],
      "text/plain": [
       "     gender race/ethnicity parental level of education         lunch  \\\n",
       "0    female        group D                some college      standard   \n",
       "1      male        group D          associate's degree      standard   \n",
       "2    female        group D                some college  free/reduced   \n",
       "4    female        group D          associate's degree      standard   \n",
       "6    female        group E          associate's degree      standard   \n",
       "..      ...            ...                         ...           ...   \n",
       "991  female        group A          associate's degree      standard   \n",
       "993    male        group D            some high school      standard   \n",
       "994  female        group B          associate's degree      standard   \n",
       "995    male        group C                some college      standard   \n",
       "997  female        group A                 high school      standard   \n",
       "\n",
       "    test preparation course  math score  reading score  writing score  \n",
       "0                 completed          59             70             78  \n",
       "1                      none          96             93             87  \n",
       "2                      none          57             76             77  \n",
       "4                      none          83             85             86  \n",
       "6                      none          82             83             80  \n",
       "..                      ...         ...            ...            ...  \n",
       "991                    none          72             77             77  \n",
       "993                    none          83             74             80  \n",
       "994                    none          82             97             90  \n",
       "995                    none          77             77             71  \n",
       "997               completed          67             86             86  \n",
       "\n",
       "[513 rows x 8 columns]"
      ]
     },
     "execution_count": 7,
     "metadata": {},
     "output_type": "execute_result"
    }
   ],
   "source": [
    "data_success"
   ]
  },
  {
   "cell_type": "code",
   "execution_count": 8,
   "id": "d39cf33a",
   "metadata": {
    "execution": {
     "iopub.execute_input": "2023-04-30T09:15:30.841598Z",
     "iopub.status.busy": "2023-04-30T09:15:30.840778Z",
     "iopub.status.idle": "2023-04-30T09:15:30.852883Z",
     "shell.execute_reply": "2023-04-30T09:15:30.851468Z"
    },
    "papermill": {
     "duration": 0.022806,
     "end_time": "2023-04-30T09:15:30.855565",
     "exception": false,
     "start_time": "2023-04-30T09:15:30.832759",
     "status": "completed"
    },
    "tags": []
   },
   "outputs": [
    {
     "data": {
      "text/plain": [
       "female    311\n",
       "male      202\n",
       "Name: gender, dtype: int64"
      ]
     },
     "execution_count": 8,
     "metadata": {},
     "output_type": "execute_result"
    }
   ],
   "source": [
    "data_success.gender.value_counts()"
   ]
  },
  {
   "cell_type": "code",
   "execution_count": 9,
   "id": "e6ed78af",
   "metadata": {
    "execution": {
     "iopub.execute_input": "2023-04-30T09:15:30.870382Z",
     "iopub.status.busy": "2023-04-30T09:15:30.869949Z",
     "iopub.status.idle": "2023-04-30T09:15:30.879180Z",
     "shell.execute_reply": "2023-04-30T09:15:30.878043Z"
    },
    "papermill": {
     "duration": 0.01961,
     "end_time": "2023-04-30T09:15:30.881711",
     "exception": false,
     "start_time": "2023-04-30T09:15:30.862101",
     "status": "completed"
    },
    "tags": []
   },
   "outputs": [
    {
     "data": {
      "text/plain": [
       "none         281\n",
       "completed    232\n",
       "Name: test preparation course, dtype: int64"
      ]
     },
     "execution_count": 9,
     "metadata": {},
     "output_type": "execute_result"
    }
   ],
   "source": [
    "data_success[\"test preparation course\"].value_counts()"
   ]
  },
  {
   "cell_type": "code",
   "execution_count": 10,
   "id": "9bf9d01a",
   "metadata": {
    "execution": {
     "iopub.execute_input": "2023-04-30T09:15:30.898216Z",
     "iopub.status.busy": "2023-04-30T09:15:30.897797Z",
     "iopub.status.idle": "2023-04-30T09:15:30.909197Z",
     "shell.execute_reply": "2023-04-30T09:15:30.907726Z"
    },
    "papermill": {
     "duration": 0.02362,
     "end_time": "2023-04-30T09:15:30.912164",
     "exception": false,
     "start_time": "2023-04-30T09:15:30.888544",
     "status": "completed"
    },
    "tags": []
   },
   "outputs": [
    {
     "data": {
      "text/plain": [
       "standard        390\n",
       "free/reduced    123\n",
       "Name: lunch, dtype: int64"
      ]
     },
     "execution_count": 10,
     "metadata": {},
     "output_type": "execute_result"
    }
   ],
   "source": [
    "data_success[\"lunch\"].value_counts()"
   ]
  },
  {
   "cell_type": "code",
   "execution_count": 11,
   "id": "d8683ea9",
   "metadata": {
    "execution": {
     "iopub.execute_input": "2023-04-30T09:15:30.927892Z",
     "iopub.status.busy": "2023-04-30T09:15:30.927471Z",
     "iopub.status.idle": "2023-04-30T09:15:30.937888Z",
     "shell.execute_reply": "2023-04-30T09:15:30.936498Z"
    },
    "papermill": {
     "duration": 0.021863,
     "end_time": "2023-04-30T09:15:30.940779",
     "exception": false,
     "start_time": "2023-04-30T09:15:30.918916",
     "status": "completed"
    },
    "tags": []
   },
   "outputs": [
    {
     "data": {
      "text/plain": [
       "associate's degree    119\n",
       "some college          115\n",
       "high school            90\n",
       "some high school       76\n",
       "bachelor's degree      64\n",
       "master's degree        49\n",
       "Name: parental level of education, dtype: int64"
      ]
     },
     "execution_count": 11,
     "metadata": {},
     "output_type": "execute_result"
    }
   ],
   "source": [
    "data_success[\"parental level of education\"].value_counts()"
   ]
  },
  {
   "cell_type": "code",
   "execution_count": 12,
   "id": "90e28543",
   "metadata": {
    "execution": {
     "iopub.execute_input": "2023-04-30T09:15:30.957827Z",
     "iopub.status.busy": "2023-04-30T09:15:30.957099Z",
     "iopub.status.idle": "2023-04-30T09:15:30.966001Z",
     "shell.execute_reply": "2023-04-30T09:15:30.964307Z"
    },
    "papermill": {
     "duration": 0.020835,
     "end_time": "2023-04-30T09:15:30.968799",
     "exception": false,
     "start_time": "2023-04-30T09:15:30.947964",
     "status": "completed"
    },
    "tags": []
   },
   "outputs": [],
   "source": [
    "x=data_success[data_success[\"gender\"]==\"male\"]\n",
    "y=data_success[data_success[\"gender\"]==\"female\"]"
   ]
  },
  {
   "cell_type": "code",
   "execution_count": 13,
   "id": "48a1cd30",
   "metadata": {
    "execution": {
     "iopub.execute_input": "2023-04-30T09:15:30.985258Z",
     "iopub.status.busy": "2023-04-30T09:15:30.984844Z",
     "iopub.status.idle": "2023-04-30T09:15:31.290065Z",
     "shell.execute_reply": "2023-04-30T09:15:31.288634Z"
    },
    "papermill": {
     "duration": 0.317135,
     "end_time": "2023-04-30T09:15:31.293257",
     "exception": false,
     "start_time": "2023-04-30T09:15:30.976122",
     "status": "completed"
    },
    "tags": []
   },
   "outputs": [
    {
     "data": {
      "image/png": "[encoded data removed]",
      "text/plain": [
       "<Figure size 800x800 with 1 Axes>"
      ]
     },
     "metadata": {},
     "output_type": "display_data"
    }
   ],
   "source": [
    "plt.figure(figsize=(8,8))\n",
    "plt.scatter(x[\"math score\"],x[\"reading score\"],color=\"green\")\n",
    "plt.scatter(y[\"math score\"],y[\"reading score\"],color=\"red\")\n",
    "plt.xlabel(\"math score\",fontsize=15)\n",
    "plt.ylabel(\"reading score\",fontsize=15)\n",
    "plt.title(\"MATH & READİNG\",fontsize=15)\n",
    "plt.show()"
   ]
  },
  {
   "cell_type": "code",
   "execution_count": 14,
   "id": "914970e4",
   "metadata": {
    "execution": {
     "iopub.execute_input": "2023-04-30T09:15:31.311746Z",
     "iopub.status.busy": "2023-04-30T09:15:31.310516Z",
     "iopub.status.idle": "2023-04-30T09:15:31.553107Z",
     "shell.execute_reply": "2023-04-30T09:15:31.551698Z"
    },
    "papermill": {
     "duration": 0.2548,
     "end_time": "2023-04-30T09:15:31.555977",
     "exception": false,
     "start_time": "2023-04-30T09:15:31.301177",
     "status": "completed"
    },
    "tags": []
   },
   "outputs": [
    {
     "data": {
      "image/png": "[encoded data removed]",
      "text/plain": [
       "<Figure size 800x800 with 1 Axes>"
      ]
     },
     "metadata": {},
     "output_type": "display_data"
    }
   ],
   "source": [
    "plt.figure(figsize=(8,8))\n",
    "plt.scatter(x[\"math score\"],x[\"writing score\"],color=\"green\")\n",
    "plt.scatter(y[\"math score\"],y[\"writing score\"],color=\"red\")\n",
    "plt.xlabel(\"math score\",fontsize=15)\n",
    "plt.ylabel(\"writing score\",fontsize=15)\n",
    "plt.title(\"MATH & WRİTİNG\",fontsize=15)\n",
    "plt.show()"
   ]
  },
  {
   "cell_type": "code",
   "execution_count": 15,
   "id": "0fb1daaf",
   "metadata": {
    "execution": {
     "iopub.execute_input": "2023-04-30T09:15:31.576999Z",
     "iopub.status.busy": "2023-04-30T09:15:31.575706Z",
     "iopub.status.idle": "2023-04-30T09:15:31.592140Z",
     "shell.execute_reply": "2023-04-30T09:15:31.590771Z"
    },
    "papermill": {
     "duration": 0.029764,
     "end_time": "2023-04-30T09:15:31.594973",
     "exception": false,
     "start_time": "2023-04-30T09:15:31.565209",
     "status": "completed"
    },
    "tags": []
   },
   "outputs": [
    {
     "data": {
      "text/html": [
       "<div>\n",
       "<style scoped>\n",
       "    .dataframe tbody tr th:only-of-type {\n",
       "        vertical-align: middle;\n",
       "    }\n",
       "\n",
       "    .dataframe tbody tr th {\n",
       "        vertical-align: top;\n",
       "    }\n",
       "\n",
       "    .dataframe thead th {\n",
       "        text-align: right;\n",
       "    }\n",
       "</style>\n",
       "<table border=\"1\" class=\"dataframe\">\n",
       "  <thead>\n",
       "    <tr style=\"text-align: right;\">\n",
       "      <th></th>\n",
       "      <th>math score</th>\n",
       "      <th>reading score</th>\n",
       "      <th>writing score</th>\n",
       "    </tr>\n",
       "  </thead>\n",
       "  <tbody>\n",
       "    <tr>\n",
       "      <th>math score</th>\n",
       "      <td>1.000000</td>\n",
       "      <td>0.620036</td>\n",
       "      <td>0.548001</td>\n",
       "    </tr>\n",
       "    <tr>\n",
       "      <th>reading score</th>\n",
       "      <td>0.620036</td>\n",
       "      <td>1.000000</td>\n",
       "      <td>0.850816</td>\n",
       "    </tr>\n",
       "    <tr>\n",
       "      <th>writing score</th>\n",
       "      <td>0.548001</td>\n",
       "      <td>0.850816</td>\n",
       "      <td>1.000000</td>\n",
       "    </tr>\n",
       "  </tbody>\n",
       "</table>\n",
       "</div>"
      ],
      "text/plain": [
       "               math score  reading score  writing score\n",
       "math score       1.000000       0.620036       0.548001\n",
       "reading score    0.620036       1.000000       0.850816\n",
       "writing score    0.548001       0.850816       1.000000"
      ]
     },
     "execution_count": 15,
     "metadata": {},
     "output_type": "execute_result"
    }
   ],
   "source": [
    "data_success.corr()"
   ]
  },
  {
   "cell_type": "code",
   "execution_count": 16,
   "id": "89ae5287",
   "metadata": {
    "execution": {
     "iopub.execute_input": "2023-04-30T09:15:31.615055Z",
     "iopub.status.busy": "2023-04-30T09:15:31.614635Z",
     "iopub.status.idle": "2023-04-30T09:15:31.929096Z",
     "shell.execute_reply": "2023-04-30T09:15:31.927969Z"
    },
    "papermill": {
     "duration": 0.327977,
     "end_time": "2023-04-30T09:15:31.931903",
     "exception": false,
     "start_time": "2023-04-30T09:15:31.603926",
     "status": "completed"
    },
    "tags": []
   },
   "outputs": [
    {
     "data": {
      "text/plain": [
       "<AxesSubplot:>"
      ]
     },
     "execution_count": 16,
     "metadata": {},
     "output_type": "execute_result"
    },
    {
     "data": {
      "image/png": "[encoded data removed]",
      "text/plain": [
       "<Figure size 640x480 with 2 Axes>"
      ]
     },
     "metadata": {},
     "output_type": "display_data"
    }
   ],
   "source": [
    "sns.heatmap(data_success.corr(),annot=True)"
   ]
  },
  {
   "cell_type": "code",
   "execution_count": 17,
   "id": "fdc40be5",
   "metadata": {
    "execution": {
     "iopub.execute_input": "2023-04-30T09:15:31.954771Z",
     "iopub.status.busy": "2023-04-30T09:15:31.954297Z",
     "iopub.status.idle": "2023-04-30T09:15:33.755884Z",
     "shell.execute_reply": "2023-04-30T09:15:33.754465Z"
    },
    "papermill": {
     "duration": 1.816522,
     "end_time": "2023-04-30T09:15:33.758837",
     "exception": false,
     "start_time": "2023-04-30T09:15:31.942315",
     "status": "completed"
    },
    "tags": []
   },
   "outputs": [
    {
     "data": {
      "text/html": [
       "        <script type=\"text/javascript\">\n",
       "        window.PlotlyConfig = {MathJaxConfig: 'local'};\n",
       "        if (window.MathJax && window.MathJax.Hub && window.MathJax.Hub.Config) {window.MathJax.Hub.Config({SVG: {font: \"STIX-Web\"}});}\n",
       "        if (typeof require !== 'undefined') {\n",
       "        require.undef(\"plotly\");\n",
       "        requirejs.config({\n",
       "            paths: {\n",
       "                'plotly': ['https://cdn.plot.ly/plotly-2.18.0.min']\n",
       "            }\n",
       "        });\n",
       "        require(['plotly'], function(Plotly) {\n",
       "            window._Plotly = Plotly;\n",
       "        });\n",
       "        }\n",
       "        </script>\n",
       "        "
      ]
     },
     "metadata": {},
     "output_type": "display_data"
    },
    {
     "data": {
      "text/html": [
       "<div>                            <div id=\"908143fa-1c53-4031-a4c0-fec91d316c68\" class=\"plotly-graph-div\" style=\"height:525px; width:100%;\"></div>            <script type=\"text/javascript\">                require([\"plotly\"], function(Plotly) {                    window.PLOTLYENV=window.PLOTLYENV || {};                                    if (document.getElementById(\"908143fa-1c53-4031-a4c0-fec91d316c68\")) {                    Plotly.newPlot(                        \"908143fa-1c53-4031-a4c0-fec91d316c68\",                        [{\"hovertemplate\":\"math score=%{marker.color}<br>reading score=%{y}<br>writing score=%{z}<extra></extra>\",\"legendgroup\":\"\",\"marker\":{\"color\":[59,96,57,70,83,68,82,46,80,57,74,53,76,70,55,56,35,87,80,65,66,67,70,89,99,74,58,70,80,90,80,68,69,32,82,57,69,68,74,89,46,76,86,69,52,63,96,80,59,80,65,74,90,69,69,62,67,89,79,67,82,63,71,55,61,35,75,73,56,80,83,64,23,41,61,63,84,55,85,65,88,91,51,73,73,100,48,98,68,64,72,63,43,80,71,91,68,73,75,83,88,59,74,43,76,74,69,62,61,88,64,65,73,50,63,98,90,64,38,84,81,82,64,55,59,83,76,83,69,43,52,56,47,71,66,81,85,76,50,76,65,59,84,85,61,73,82,75,91,67,62,61,66,59,88,67,91,87,83,70,83,49,65,50,62,56,44,63,72,64,61,82,57,43,69,62,60,81,68,65,59,81,84,56,71,93,77,50,75,64,77,64,71,58,47,57,82,53,89,89,75,62,63,100,62,75,51,74,66,52,69,46,74,100,83,82,58,59,77,61,85,59,71,52,62,47,96,48,20,70,59,80,83,75,73,78,94,46,77,63,64,60,74,67,78,88,52,88,78,55,71,75,62,66,39,85,46,57,65,86,59,49,51,53,82,51,74,73,42,41,84,64,74,91,67,54,44,65,37,58,69,64,70,55,45,80,77,57,67,68,49,42,96,55,70,51,27,60,44,63,72,82,82,70,76,62,58,61,88,61,88,57,92,80,62,71,54,43,51,57,62,48,61,94,44,56,68,61,49,71,78,74,66,61,59,49,61,54,45,81,71,67,56,60,95,60,60,82,78,57,72,37,72,52,80,89,84,67,59,95,71,72,83,94,58,75,65,68,34,97,44,60,66,96,39,56,31,74,100,68,79,62,72,66,64,62,68,70,63,91,58,75,44,68,65,66,73,67,66,81,77,43,58,65,92,56,65,72,100,69,70,90,90,63,40,64,90,76,42,45,76,63,84,62,69,77,63,72,75,61,79,53,77,44,44,71,60,49,82,68,58,65,50,73,40,60,57,57,83,68,74,76,38,63,87,81,84,68,57,75,39,54,71,58,61,82,73,52,33,67,61,86,98,72,60,66,86,45,75,51,21,54,83,74,73,69,81,95,97,62,63,50,25,73,57,64,86,62,97,62,91,60,59,75,79,79,34,49,47,78,46,72,45,28,83,86,64,65,69,66,41,67,57,42,75,77,65,87,72,71,60,67,54,48,67,58,80,84,48,55,69,74,62,76,84,93,56,52,81,84,55,54,46,48,79,66,56,60,75,79,41,35,54,67,85,92,99,52,73,62,75,90,54,81,74,68,74,51,68,69,100,53,72,50,61,65,15,64,77,61,49,70,60,84,51,74,64,67,76,70,85,53,84,55,50,79,81,89,59,82,86,41,64,68,74,44,34,45,83,55,61,81,45,71,62,78,76,73,82,69,72,72,57,83,68,62,99,88,56,68,75,45,72,99,76,64,56,74,97,83,55,77,78,89,78,33,66,87,50,79,70,47,80,91,78,56,54,79,93,74,83,90,62,58,73,63,89,75,51,58,92,39,84,71,85,59,71,74,62,83,74,64,79,24,66,69,65,66,54,59,60,68,61,84,62,70,76,81,54,67,56,63,39,93,65,83,75,71,46,60,55,79,62,55,58,82,30,80,98,83,81,54,82,62,70,77,55,78,69,58,39,80,76,52,88,82,62,90,41,59,61,68,60,37,67,73,74,67,37,61,64,74,34,54,65,81,88,82,70,60,70,67,98,35,69,38,70,42,47,49,90,49,83,82,72,67,92,59,64,88,92,82,59,45,56,52,86,81,61,51,69,81,73,92,71,61,80,38,72,96,64,44,81,85,82,72,43,58,72,80,81,66,74,75,68,67,58,79,63,59,47,67,92,44,57,83,68,59,36,56,80,62,90,55,44,72,92,73,75,82,84,81,82,79,31,73,89,100,47,94,79,77,63,56,58,77,82,51,92,87,88,77,62,61,65,84,30,63,79,51,66,63,71,69,70,67,53,50,59,54,81,69,87,88,52,60,77,47,76,92,87,74,67,56,84,73,75,70,79,86,77,58,70,69,94,76,71,76,85,94,91,100,65,68,59,73,76,86,75,68,68,59,84,67,59,58,72,61,55,41,36,84,57,81,59,66,65,65,53,79,89,85,79,83,62,64,66,36,74,85,44,68,59,64,62,45,85,45,81,65,48,59,80,66,80,47,74,55,100,83,76,87,28,76,86,65,88,87,51,67,70,72,75,83,82,77,80,67,80,58],\"coloraxis\":\"coloraxis\",\"symbol\":\"circle\"},\"mode\":\"markers\",\"name\":\"\",\"scene\":\"scene\",\"showlegend\":false,\"x\":[59,96,57,70,83,68,82,46,80,57,74,53,76,70,55,56,35,87,80,65,66,67,70,89,99,74,58,70,80,90,80,68,69,32,82,57,69,68,74,89,46,76,86,69,52,63,96,80,59,80,65,74,90,69,69,62,67,89,79,67,82,63,71,55,61,35,75,73,56,80,83,64,23,41,61,63,84,55,85,65,88,91,51,73,73,100,48,98,68,64,72,63,43,80,71,91,68,73,75,83,88,59,74,43,76,74,69,62,61,88,64,65,73,50,63,98,90,64,38,84,81,82,64,55,59,83,76,83,69,43,52,56,47,71,66,81,85,76,50,76,65,59,84,85,61,73,82,75,91,67,62,61,66,59,88,67,91,87,83,70,83,49,65,50,62,56,44,63,72,64,61,82,57,43,69,62,60,81,68,65,59,81,84,56,71,93,77,50,75,64,77,64,71,58,47,57,82,53,89,89,75,62,63,100,62,75,51,74,66,52,69,46,74,100,83,82,58,59,77,61,85,59,71,52,62,47,96,48,20,70,59,80,83,75,73,78,94,46,77,63,64,60,74,67,78,88,52,88,78,55,71,75,62,66,39,85,46,57,65,86,59,49,51,53,82,51,74,73,42,41,84,64,74,91,67,54,44,65,37,58,69,64,70,55,45,80,77,57,67,68,49,42,96,55,70,51,27,60,44,63,72,82,82,70,76,62,58,61,88,61,88,57,92,80,62,71,54,43,51,57,62,48,61,94,44,56,68,61,49,71,78,74,66,61,59,49,61,54,45,81,71,67,56,60,95,60,60,82,78,57,72,37,72,52,80,89,84,67,59,95,71,72,83,94,58,75,65,68,34,97,44,60,66,96,39,56,31,74,100,68,79,62,72,66,64,62,68,70,63,91,58,75,44,68,65,66,73,67,66,81,77,43,58,65,92,56,65,72,100,69,70,90,90,63,40,64,90,76,42,45,76,63,84,62,69,77,63,72,75,61,79,53,77,44,44,71,60,49,82,68,58,65,50,73,40,60,57,57,83,68,74,76,38,63,87,81,84,68,57,75,39,54,71,58,61,82,73,52,33,67,61,86,98,72,60,66,86,45,75,51,21,54,83,74,73,69,81,95,97,62,63,50,25,73,57,64,86,62,97,62,91,60,59,75,79,79,34,49,47,78,46,72,45,28,83,86,64,65,69,66,41,67,57,42,75,77,65,87,72,71,60,67,54,48,67,58,80,84,48,55,69,74,62,76,84,93,56,52,81,84,55,54,46,48,79,66,56,60,75,79,41,35,54,67,85,92,99,52,73,62,75,90,54,81,74,68,74,51,68,69,100,53,72,50,61,65,15,64,77,61,49,70,60,84,51,74,64,67,76,70,85,53,84,55,50,79,81,89,59,82,86,41,64,68,74,44,34,45,83,55,61,81,45,71,62,78,76,73,82,69,72,72,57,83,68,62,99,88,56,68,75,45,72,99,76,64,56,74,97,83,55,77,78,89,78,33,66,87,50,79,70,47,80,91,78,56,54,79,93,74,83,90,62,58,73,63,89,75,51,58,92,39,84,71,85,59,71,74,62,83,74,64,79,24,66,69,65,66,54,59,60,68,61,84,62,70,76,81,54,67,56,63,39,93,65,83,75,71,46,60,55,79,62,55,58,82,30,80,98,83,81,54,82,62,70,77,55,78,69,58,39,80,76,52,88,82,62,90,41,59,61,68,60,37,67,73,74,67,37,61,64,74,34,54,65,81,88,82,70,60,70,67,98,35,69,38,70,42,47,49,90,49,83,82,72,67,92,59,64,88,92,82,59,45,56,52,86,81,61,51,69,81,73,92,71,61,80,38,72,96,64,44,81,85,82,72,43,58,72,80,81,66,74,75,68,67,58,79,63,59,47,67,92,44,57,83,68,59,36,56,80,62,90,55,44,72,92,73,75,82,84,81,82,79,31,73,89,100,47,94,79,77,63,56,58,77,82,51,92,87,88,77,62,61,65,84,30,63,79,51,66,63,71,69,70,67,53,50,59,54,81,69,87,88,52,60,77,47,76,92,87,74,67,56,84,73,75,70,79,86,77,58,70,69,94,76,71,76,85,94,91,100,65,68,59,73,76,86,75,68,68,59,84,67,59,58,72,61,55,41,36,84,57,81,59,66,65,65,53,79,89,85,79,83,62,64,66,36,74,85,44,68,59,64,62,45,85,45,81,65,48,59,80,66,80,47,74,55,100,83,76,87,28,76,86,65,88,87,51,67,70,72,75,83,82,77,80,67,80,58],\"y\":[70,93,76,70,85,57,83,61,75,69,69,50,74,73,54,46,47,92,82,71,66,71,71,88,85,83,52,66,79,87,81,76,78,35,82,53,74,66,85,85,46,82,82,73,56,71,82,76,52,77,77,83,93,72,67,64,75,93,86,66,74,69,83,68,74,34,77,91,62,70,81,82,33,58,49,46,91,61,75,61,80,93,46,77,89,97,68,79,65,62,67,74,51,75,88,96,84,80,90,62,72,50,69,58,90,75,76,78,58,81,84,79,86,64,72,95,96,71,55,91,74,84,67,60,78,90,79,95,75,65,65,58,46,61,70,65,90,77,66,81,64,69,77,77,56,79,77,70,83,78,69,56,77,57,76,73,99,82,79,79,83,53,60,56,58,50,49,72,69,77,75,72,68,45,56,71,73,70,84,63,72,89,85,68,75,98,81,40,75,82,65,81,63,57,66,63,89,61,98,94,97,61,76,91,81,95,56,67,66,59,56,57,77,90,77,78,66,55,90,61,81,68,92,71,62,48,92,60,25,75,62,80,88,71,68,78,82,63,77,56,70,69,79,77,81,75,64,66,88,62,69,79,60,73,45,80,57,64,78,82,50,69,50,57,84,68,79,72,61,59,88,66,88,84,72,56,39,84,40,75,78,56,63,68,63,70,73,54,72,70,53,48,93,56,65,53,49,54,56,73,77,77,85,82,61,68,62,73,82,64,77,45,95,79,54,74,58,43,57,46,71,59,69,91,45,71,69,53,68,71,86,70,63,56,45,65,68,57,61,96,87,60,53,66,86,59,55,68,68,67,77,51,76,57,72,78,88,73,75,85,68,76,80,86,57,62,83,78,44,96,47,57,81,94,60,57,27,79,100,75,89,69,85,78,66,64,82,75,61,100,62,66,55,64,61,71,69,76,73,78,62,48,70,77,89,48,73,67,84,81,66,80,79,78,51,72,76,74,48,68,65,69,77,75,76,79,65,67,68,66,97,66,68,49,50,84,65,39,95,70,63,68,42,72,50,67,58,60,86,56,76,68,45,64,79,84,90,69,70,82,50,77,73,64,70,85,87,66,47,68,80,89,96,56,59,68,89,52,86,69,30,53,78,79,67,70,93,90,88,68,57,72,33,67,58,62,89,65,94,64,97,57,55,87,87,92,49,49,58,73,53,80,61,32,92,89,75,55,85,62,60,71,65,50,81,90,65,90,76,83,80,75,73,59,63,56,83,100,38,67,84,72,68,75,81,86,44,65,90,79,50,53,41,46,65,66,60,74,91,65,57,40,56,65,98,100,100,59,66,75,71,94,49,74,66,73,74,57,77,59,89,59,70,40,69,69,39,56,70,63,66,49,56,97,56,61,77,74,61,66,92,55,71,49,62,77,77,75,68,79,84,58,67,71,67,44,66,50,86,65,56,89,52,63,67,83,74,68,91,58,71,73,59,71,76,74,97,87,68,70,69,46,68,98,72,72,61,78,91,89,64,90,80,95,72,42,72,87,48,86,70,61,84,76,86,61,56,65,87,78,90,78,78,61,73,59,83,66,54,80,88,65,90,66,86,74,67,60,58,86,63,62,76,48,60,86,58,63,56,48,67,76,69,88,67,75,81,92,60,65,53,59,44,78,72,83,78,74,52,74,35,72,55,72,64,76,47,79,88,91,84,68,95,70,77,85,48,76,77,62,52,80,70,68,78,69,65,96,49,69,69,56,75,48,67,76,75,89,51,73,81,81,37,62,76,86,89,70,75,51,81,72,100,56,82,38,74,59,58,57,93,54,86,86,69,67,89,64,63,90,77,73,72,43,67,48,72,93,64,52,85,71,85,87,63,57,76,38,62,98,66,65,99,75,76,67,57,69,73,67,62,60,65,70,58,63,47,56,63,72,53,78,86,45,54,100,76,52,51,51,94,72,72,62,45,63,94,68,74,78,84,80,68,92,49,62,93,100,58,75,77,80,60,45,67,80,85,69,80,90,78,79,65,56,66,76,59,61,78,72,70,69,78,76,81,59,48,62,63,72,72,58,84,84,53,61,83,49,65,100,87,82,60,47,92,54,65,72,72,77,83,67,66,67,97,82,72,72,78,84,82,100,66,79,60,87,83,92,74,53,73,62,80,58,64,66,62,65,70,51,45,75,45,96,60,56,62,85,77,69,86,91,93,96,71,68,65,52,77,96,69,78,66,57,74,53,81,48,66,70,60,66,88,80,93,54,90,59,93,84,74,83,27,78,87,64,72,95,53,62,77,77,67,74,97,77,66,86,72,47],\"z\":[78,87,77,63,86,54,80,58,73,77,69,49,76,70,52,43,41,81,85,74,62,76,71,86,88,72,51,59,71,86,85,79,75,37,82,54,75,72,87,78,48,77,72,67,54,65,90,68,56,80,74,84,84,72,63,61,80,93,78,66,75,63,80,73,71,36,66,88,57,73,78,80,33,59,52,46,89,59,74,57,81,95,42,76,89,91,68,85,60,58,61,75,38,74,83,97,87,78,95,64,74,53,63,60,84,74,72,74,56,77,83,73,89,63,78,100,88,68,52,93,79,81,75,67,80,88,80,97,75,60,60,55,51,63,83,60,88,77,66,74,61,64,80,78,60,81,72,71,82,80,67,52,80,51,81,74,100,79,80,76,78,47,57,55,57,50,53,60,74,77,82,69,74,38,59,74,68,70,87,57,67,86,87,70,73,94,85,44,78,80,69,87,55,53,66,54,86,59,99,94,92,57,67,85,77,94,53,67,58,59,56,57,73,88,77,90,70,58,82,57,80,68,93,70,68,49,88,57,15,76,58,83,90,76,72,82,93,66,77,47,72,70,73,81,80,72,66,73,85,61,73,68,55,72,36,73,53,66,81,72,41,68,44,60,83,66,79,75,63,56,84,62,75,77,65,59,37,86,36,78,78,51,63,66,67,71,69,44,72,72,43,42,100,54,56,51,50,47,47,74,75,80,99,83,61,74,54,70,82,54,78,46,93,73,52,80,63,40,60,44,62,55,62,98,41,70,55,48,67,76,80,63,63,53,44,62,67,63,63,99,87,61,58,64,83,53,52,69,70,64,67,43,64,49,72,76,87,76,79,80,68,74,82,82,58,65,77,83,43,89,55,60,75,93,52,62,19,84,100,73,96,60,81,75,69,64,86,74,64,100,63,59,61,64,57,87,70,76,69,68,57,53,72,70,83,54,77,59,87,70,68,78,75,74,51,66,71,73,33,71,70,68,79,73,82,76,58,67,68,71,85,64,66,43,37,88,67,33,93,62,65,67,35,79,47,74,51,57,89,57,73,70,44,59,72,78,90,71,71,81,41,78,69,55,73,94,83,63,32,69,82,96,100,63,52,62,87,51,84,65,26,47,74,65,73,75,94,89,81,75,59,70,32,64,54,61,87,69,91,63,91,61,46,90,89,97,47,43,56,65,54,75,57,28,93,89,81,51,84,66,55,70,56,61,87,97,62,90,78,79,76,84,64,55,67,53,86,96,46,68,81,62,65,77,72,76,44,60,93,75,47,51,40,50,67,75,63,68,81,65,55,45,58,62,99,99,100,58,68,79,68,93,48,74,64,72,70,44,75,57,86,59,70,38,69,56,40,52,60,70,60,53,57,96,50,68,79,81,62,72,84,57,66,44,63,71,71,80,66,81,82,60,72,64,61,53,59,48,90,57,52,88,45,61,68,76,71,81,85,60,65,72,62,69,72,71,95,85,66,76,67,47,62,93,65,79,65,81,96,88,63,93,79,99,66,41,74,79,52,84,66,64,81,78,88,62,47,69,84,78,95,78,71,59,63,51,81,72,51,76,94,64,89,70,88,68,64,59,56,91,65,55,69,46,64,87,57,60,56,48,61,79,66,82,70,70,72,97,60,59,53,51,36,77,76,70,77,73,48,72,43,74,50,70,56,75,46,74,85,92,86,69,100,64,86,85,46,80,77,64,58,79,67,66,84,76,61,98,51,63,73,57,72,46,62,74,78,89,51,74,87,82,27,62,70,78,87,67,78,55,75,71,99,54,78,41,65,59,54,61,91,50,87,78,70,67,83,64,64,90,84,74,70,47,62,49,76,94,63,46,83,62,83,92,53,55,74,30,62,100,72,59,96,72,71,64,59,63,75,72,61,59,61,76,54,63,45,68,63,72,42,70,88,41,48,100,76,45,49,44,97,67,79,58,52,66,94,71,75,78,74,73,63,87,42,59,98,100,56,75,75,74,53,38,70,85,91,64,78,85,86,78,65,56,66,81,51,64,83,63,67,66,81,71,76,59,49,62,61,68,70,52,76,88,55,57,84,49,58,100,84,81,69,48,90,57,65,67,72,80,91,67,68,78,95,81,69,73,81,80,74,98,61,78,56,89,78,83,80,53,71,52,77,58,60,67,60,59,60,53,44,75,42,93,50,56,63,80,75,70,92,88,81,96,61,60,76,51,72,95,68,77,71,52,74,45,83,46,58,57,55,69,90,75,99,48,83,49,89,78,67,80,23,79,90,73,78,100,45,67,76,77,67,80,90,71,66,86,62,45],\"type\":\"scatter3d\"}],                        {\"template\":{\"data\":{\"histogram2dcontour\":[{\"type\":\"histogram2dcontour\",\"colorbar\":{\"outlinewidth\":0,\"ticks\":\"\"},\"colorscale\":[[0.0,\"#0d0887\"],[0.1111111111111111,\"#46039f\"],[0.2222222222222222,\"#7201a8\"],[0.3333333333333333,\"#9c179e\"],[0.4444444444444444,\"#bd3786\"],[0.5555555555555556,\"#d8576b\"],[0.6666666666666666,\"#ed7953\"],[0.7777777777777778,\"#fb9f3a\"],[0.8888888888888888,\"#fdca26\"],[1.0,\"#f0f921\"]]}],\"choropleth\":[{\"type\":\"choropleth\",\"colorbar\":{\"outlinewidth\":0,\"ticks\":\"\"}}],\"histogram2d\":[{\"type\":\"histogram2d\",\"colorbar\":{\"outlinewidth\":0,\"ticks\":\"\"},\"colorscale\":[[0.0,\"#0d0887\"],[0.1111111111111111,\"#46039f\"],[0.2222222222222222,\"#7201a8\"],[0.3333333333333333,\"#9c179e\"],[0.4444444444444444,\"#bd3786\"],[0.5555555555555556,\"#d8576b\"],[0.6666666666666666,\"#ed7953\"],[0.7777777777777778,\"#fb9f3a\"],[0.8888888888888888,\"#fdca26\"],[1.0,\"#f0f921\"]]}],\"heatmap\":[{\"type\":\"heatmap\",\"colorbar\":{\"outlinewidth\":0,\"ticks\":\"\"},\"colorscale\":[[0.0,\"#0d0887\"],[0.1111111111111111,\"#46039f\"],[0.2222222222222222,\"#7201a8\"],[0.3333333333333333,\"#9c179e\"],[0.4444444444444444,\"#bd3786\"],[0.5555555555555556,\"#d8576b\"],[0.6666666666666666,\"#ed7953\"],[0.7777777777777778,\"#fb9f3a\"],[0.8888888888888888,\"#fdca26\"],[1.0,\"#f0f921\"]]}],\"heatmapgl\":[{\"type\":\"heatmapgl\",\"colorbar\":{\"outlinewidth\":0,\"ticks\":\"\"},\"colorscale\":[[0.0,\"#0d0887\"],[0.1111111111111111,\"#46039f\"],[0.2222222222222222,\"#7201a8\"],[0.3333333333333333,\"#9c179e\"],[0.4444444444444444,\"#bd3786\"],[0.5555555555555556,\"#d8576b\"],[0.6666666666666666,\"#ed7953\"],[0.7777777777777778,\"#fb9f3a\"],[0.8888888888888888,\"#fdca26\"],[1.0,\"#f0f921\"]]}],\"contourcarpet\":[{\"type\":\"contourcarpet\",\"colorbar\":{\"outlinewidth\":0,\"ticks\":\"\"}}],\"contour\":[{\"type\":\"contour\",\"colorbar\":{\"outlinewidth\":0,\"ticks\":\"\"},\"colorscale\":[[0.0,\"#0d0887\"],[0.1111111111111111,\"#46039f\"],[0.2222222222222222,\"#7201a8\"],[0.3333333333333333,\"#9c179e\"],[0.4444444444444444,\"#bd3786\"],[0.5555555555555556,\"#d8576b\"],[0.6666666666666666,\"#ed7953\"],[0.7777777777777778,\"#fb9f3a\"],[0.8888888888888888,\"#fdca26\"],[1.0,\"#f0f921\"]]}],\"surface\":[{\"type\":\"surface\",\"colorbar\":{\"outlinewidth\":0,\"ticks\":\"\"},\"colorscale\":[[0.0,\"#0d0887\"],[0.1111111111111111,\"#46039f\"],[0.2222222222222222,\"#7201a8\"],[0.3333333333333333,\"#9c179e\"],[0.4444444444444444,\"#bd3786\"],[0.5555555555555556,\"#d8576b\"],[0.6666666666666666,\"#ed7953\"],[0.7777777777777778,\"#fb9f3a\"],[0.8888888888888888,\"#fdca26\"],[1.0,\"#f0f921\"]]}],\"mesh3d\":[{\"type\":\"mesh3d\",\"colorbar\":{\"outlinewidth\":0,\"ticks\":\"\"}}],\"scatter\":[{\"fillpattern\":{\"fillmode\":\"overlay\",\"size\":10,\"solidity\":0.2},\"type\":\"scatter\"}],\"parcoords\":[{\"type\":\"parcoords\",\"line\":{\"colorbar\":{\"outlinewidth\":0,\"ticks\":\"\"}}}],\"scatterpolargl\":[{\"type\":\"scatterpolargl\",\"marker\":{\"colorbar\":{\"outlinewidth\":0,\"ticks\":\"\"}}}],\"bar\":[{\"error_x\":{\"color\":\"#2a3f5f\"},\"error_y\":{\"color\":\"#2a3f5f\"},\"marker\":{\"line\":{\"color\":\"#E5ECF6\",\"width\":0.5},\"pattern\":{\"fillmode\":\"overlay\",\"size\":10,\"solidity\":0.2}},\"type\":\"bar\"}],\"scattergeo\":[{\"type\":\"scattergeo\",\"marker\":{\"colorbar\":{\"outlinewidth\":0,\"ticks\":\"\"}}}],\"scatterpolar\":[{\"type\":\"scatterpolar\",\"marker\":{\"colorbar\":{\"outlinewidth\":0,\"ticks\":\"\"}}}],\"histogram\":[{\"marker\":{\"pattern\":{\"fillmode\":\"overlay\",\"size\":10,\"solidity\":0.2}},\"type\":\"histogram\"}],\"scattergl\":[{\"type\":\"scattergl\",\"marker\":{\"colorbar\":{\"outlinewidth\":0,\"ticks\":\"\"}}}],\"scatter3d\":[{\"type\":\"scatter3d\",\"line\":{\"colorbar\":{\"outlinewidth\":0,\"ticks\":\"\"}},\"marker\":{\"colorbar\":{\"outlinewidth\":0,\"ticks\":\"\"}}}],\"scattermapbox\":[{\"type\":\"scattermapbox\",\"marker\":{\"colorbar\":{\"outlinewidth\":0,\"ticks\":\"\"}}}],\"scatterternary\":[{\"type\":\"scatterternary\",\"marker\":{\"colorbar\":{\"outlinewidth\":0,\"ticks\":\"\"}}}],\"scattercarpet\":[{\"type\":\"scattercarpet\",\"marker\":{\"colorbar\":{\"outlinewidth\":0,\"ticks\":\"\"}}}],\"carpet\":[{\"aaxis\":{\"endlinecolor\":\"#2a3f5f\",\"gridcolor\":\"white\",\"linecolor\":\"white\",\"minorgridcolor\":\"white\",\"startlinecolor\":\"#2a3f5f\"},\"baxis\":{\"endlinecolor\":\"#2a3f5f\",\"gridcolor\":\"white\",\"linecolor\":\"white\",\"minorgridcolor\":\"white\",\"startlinecolor\":\"#2a3f5f\"},\"type\":\"carpet\"}],\"table\":[{\"cells\":{\"fill\":{\"color\":\"#EBF0F8\"},\"line\":{\"color\":\"white\"}},\"header\":{\"fill\":{\"color\":\"#C8D4E3\"},\"line\":{\"color\":\"white\"}},\"type\":\"table\"}],\"barpolar\":[{\"marker\":{\"line\":{\"color\":\"#E5ECF6\",\"width\":0.5},\"pattern\":{\"fillmode\":\"overlay\",\"size\":10,\"solidity\":0.2}},\"type\":\"barpolar\"}],\"pie\":[{\"automargin\":true,\"type\":\"pie\"}]},\"layout\":{\"autotypenumbers\":\"strict\",\"colorway\":[\"#636efa\",\"#EF553B\",\"#00cc96\",\"#ab63fa\",\"#FFA15A\",\"#19d3f3\",\"#FF6692\",\"#B6E880\",\"#FF97FF\",\"#FECB52\"],\"font\":{\"color\":\"#2a3f5f\"},\"hovermode\":\"closest\",\"hoverlabel\":{\"align\":\"left\"},\"paper_bgcolor\":\"white\",\"plot_bgcolor\":\"#E5ECF6\",\"polar\":{\"bgcolor\":\"#E5ECF6\",\"angularaxis\":{\"gridcolor\":\"white\",\"linecolor\":\"white\",\"ticks\":\"\"},\"radialaxis\":{\"gridcolor\":\"white\",\"linecolor\":\"white\",\"ticks\":\"\"}},\"ternary\":{\"bgcolor\":\"#E5ECF6\",\"aaxis\":{\"gridcolor\":\"white\",\"linecolor\":\"white\",\"ticks\":\"\"},\"baxis\":{\"gridcolor\":\"white\",\"linecolor\":\"white\",\"ticks\":\"\"},\"caxis\":{\"gridcolor\":\"white\",\"linecolor\":\"white\",\"ticks\":\"\"}},\"coloraxis\":{\"colorbar\":{\"outlinewidth\":0,\"ticks\":\"\"}},\"colorscale\":{\"sequential\":[[0.0,\"#0d0887\"],[0.1111111111111111,\"#46039f\"],[0.2222222222222222,\"#7201a8\"],[0.3333333333333333,\"#9c179e\"],[0.4444444444444444,\"#bd3786\"],[0.5555555555555556,\"#d8576b\"],[0.6666666666666666,\"#ed7953\"],[0.7777777777777778,\"#fb9f3a\"],[0.8888888888888888,\"#fdca26\"],[1.0,\"#f0f921\"]],\"sequentialminus\":[[0.0,\"#0d0887\"],[0.1111111111111111,\"#46039f\"],[0.2222222222222222,\"#7201a8\"],[0.3333333333333333,\"#9c179e\"],[0.4444444444444444,\"#bd3786\"],[0.5555555555555556,\"#d8576b\"],[0.6666666666666666,\"#ed7953\"],[0.7777777777777778,\"#fb9f3a\"],[0.8888888888888888,\"#fdca26\"],[1.0,\"#f0f921\"]],\"diverging\":[[0,\"#8e0152\"],[0.1,\"#c51b7d\"],[0.2,\"#de77ae\"],[0.3,\"#f1b6da\"],[0.4,\"#fde0ef\"],[0.5,\"#f7f7f7\"],[0.6,\"#e6f5d0\"],[0.7,\"#b8e186\"],[0.8,\"#7fbc41\"],[0.9,\"#4d9221\"],[1,\"#276419\"]]},\"xaxis\":{\"gridcolor\":\"white\",\"linecolor\":\"white\",\"ticks\":\"\",\"title\":{\"standoff\":15},\"zerolinecolor\":\"white\",\"automargin\":true,\"zerolinewidth\":2},\"yaxis\":{\"gridcolor\":\"white\",\"linecolor\":\"white\",\"ticks\":\"\",\"title\":{\"standoff\":15},\"zerolinecolor\":\"white\",\"automargin\":true,\"zerolinewidth\":2},\"scene\":{\"xaxis\":{\"backgroundcolor\":\"#E5ECF6\",\"gridcolor\":\"white\",\"linecolor\":\"white\",\"showbackground\":true,\"ticks\":\"\",\"zerolinecolor\":\"white\",\"gridwidth\":2},\"yaxis\":{\"backgroundcolor\":\"#E5ECF6\",\"gridcolor\":\"white\",\"linecolor\":\"white\",\"showbackground\":true,\"ticks\":\"\",\"zerolinecolor\":\"white\",\"gridwidth\":2},\"zaxis\":{\"backgroundcolor\":\"#E5ECF6\",\"gridcolor\":\"white\",\"linecolor\":\"white\",\"showbackground\":true,\"ticks\":\"\",\"zerolinecolor\":\"white\",\"gridwidth\":2}},\"shapedefaults\":{\"line\":{\"color\":\"#2a3f5f\"}},\"annotationdefaults\":{\"arrowcolor\":\"#2a3f5f\",\"arrowhead\":0,\"arrowwidth\":1},\"geo\":{\"bgcolor\":\"white\",\"landcolor\":\"#E5ECF6\",\"subunitcolor\":\"white\",\"showland\":true,\"showlakes\":true,\"lakecolor\":\"white\"},\"title\":{\"x\":0.05},\"mapbox\":{\"style\":\"light\"}}},\"scene\":{\"domain\":{\"x\":[0.0,1.0],\"y\":[0.0,1.0]},\"xaxis\":{\"title\":{\"text\":\"math score\"}},\"yaxis\":{\"title\":{\"text\":\"reading score\"}},\"zaxis\":{\"title\":{\"text\":\"writing score\"}}},\"coloraxis\":{\"colorbar\":{\"title\":{\"text\":\"math score\"}},\"colorscale\":[[0.0,\"#0d0887\"],[0.1111111111111111,\"#46039f\"],[0.2222222222222222,\"#7201a8\"],[0.3333333333333333,\"#9c179e\"],[0.4444444444444444,\"#bd3786\"],[0.5555555555555556,\"#d8576b\"],[0.6666666666666666,\"#ed7953\"],[0.7777777777777778,\"#fb9f3a\"],[0.8888888888888888,\"#fdca26\"],[1.0,\"#f0f921\"]]},\"legend\":{\"tracegroupgap\":0},\"margin\":{\"t\":60}},                        {\"responsive\": true}                    ).then(function(){\n",
       "                            \n",
       "var gd = document.getElementById('908143fa-1c53-4031-a4c0-fec91d316c68');\n",
       "var x = new MutationObserver(function (mutations, observer) {{\n",
       "        var display = window.getComputedStyle(gd).display;\n",
       "        if (!display || display === 'none') {{\n",
       "            console.log([gd, 'removed!']);\n",
       "            Plotly.purge(gd);\n",
       "            observer.disconnect();\n",
       "        }}\n",
       "}});\n",
       "\n",
       "// Listen for the removal of the full notebook cells\n",
       "var notebookContainer = gd.closest('#notebook-container');\n",
       "if (notebookContainer) {{\n",
       "    x.observe(notebookContainer, {childList: true});\n",
       "}}\n",
       "\n",
       "// Listen for the clearing of the current output cell\n",
       "var outputEl = gd.closest('.output');\n",
       "if (outputEl) {{\n",
       "    x.observe(outputEl, {childList: true});\n",
       "}}\n",
       "\n",
       "                        })                };                });            </script>        </div>"
      ]
     },
     "metadata": {},
     "output_type": "display_data"
    }
   ],
   "source": [
    "dd=px.scatter_3d(data,x=\"math score\",y=\"reading score\",z=\"writing score\",color=\"math score\")\n",
    "dd.show()"
   ]
  },
  {
   "cell_type": "code",
   "execution_count": 18,
   "id": "9335a1ed",
   "metadata": {
    "execution": {
     "iopub.execute_input": "2023-04-30T09:15:33.783970Z",
     "iopub.status.busy": "2023-04-30T09:15:33.783574Z",
     "iopub.status.idle": "2023-04-30T09:15:33.790928Z",
     "shell.execute_reply": "2023-04-30T09:15:33.789593Z"
    },
    "papermill": {
     "duration": 0.023098,
     "end_time": "2023-04-30T09:15:33.793499",
     "exception": false,
     "start_time": "2023-04-30T09:15:33.770401",
     "status": "completed"
    },
    "tags": []
   },
   "outputs": [],
   "source": [
    "def find(x,y,m):\n",
    "    for i in data[\"math score\"]:\n",
    "        if i>=x:\n",
    "            a=data[data[\"math score\"]==x]\n",
    "            for k in a[\"reading score\"]:\n",
    "                if k>=y:\n",
    "                    b=data[data[\"reading score\"]==y]\n",
    "                    for x in b[\"writing score\"]:\n",
    "                        if x>=m:\n",
    "                            z=data[data[\"writing score\"]==m]\n",
    "                            return z\n",
    "                        "
   ]
  },
  {
   "cell_type": "code",
   "execution_count": 19,
   "id": "91b9e647",
   "metadata": {
    "execution": {
     "iopub.execute_input": "2023-04-30T09:15:33.815573Z",
     "iopub.status.busy": "2023-04-30T09:15:33.815136Z",
     "iopub.status.idle": "2023-04-30T09:15:33.833518Z",
     "shell.execute_reply": "2023-04-30T09:15:33.832127Z"
    },
    "papermill": {
     "duration": 0.032579,
     "end_time": "2023-04-30T09:15:33.836270",
     "exception": false,
     "start_time": "2023-04-30T09:15:33.803691",
     "status": "completed"
    },
    "tags": []
   },
   "outputs": [
    {
     "data": {
      "text/html": [
       "<div>\n",
       "<style scoped>\n",
       "    .dataframe tbody tr th:only-of-type {\n",
       "        vertical-align: middle;\n",
       "    }\n",
       "\n",
       "    .dataframe tbody tr th {\n",
       "        vertical-align: top;\n",
       "    }\n",
       "\n",
       "    .dataframe thead th {\n",
       "        text-align: right;\n",
       "    }\n",
       "</style>\n",
       "<table border=\"1\" class=\"dataframe\">\n",
       "  <thead>\n",
       "    <tr style=\"text-align: right;\">\n",
       "      <th></th>\n",
       "      <th>gender</th>\n",
       "      <th>race/ethnicity</th>\n",
       "      <th>parental level of education</th>\n",
       "      <th>lunch</th>\n",
       "      <th>test preparation course</th>\n",
       "      <th>math score</th>\n",
       "      <th>reading score</th>\n",
       "      <th>writing score</th>\n",
       "    </tr>\n",
       "  </thead>\n",
       "  <tbody>\n",
       "    <tr>\n",
       "      <th>115</th>\n",
       "      <td>female</td>\n",
       "      <td>group E</td>\n",
       "      <td>bachelor's degree</td>\n",
       "      <td>standard</td>\n",
       "      <td>none</td>\n",
       "      <td>98</td>\n",
       "      <td>95</td>\n",
       "      <td>100</td>\n",
       "    </tr>\n",
       "    <tr>\n",
       "      <th>156</th>\n",
       "      <td>female</td>\n",
       "      <td>group B</td>\n",
       "      <td>associate's degree</td>\n",
       "      <td>standard</td>\n",
       "      <td>completed</td>\n",
       "      <td>91</td>\n",
       "      <td>99</td>\n",
       "      <td>100</td>\n",
       "    </tr>\n",
       "    <tr>\n",
       "      <th>292</th>\n",
       "      <td>female</td>\n",
       "      <td>group E</td>\n",
       "      <td>associate's degree</td>\n",
       "      <td>standard</td>\n",
       "      <td>none</td>\n",
       "      <td>96</td>\n",
       "      <td>93</td>\n",
       "      <td>100</td>\n",
       "    </tr>\n",
       "    <tr>\n",
       "      <th>378</th>\n",
       "      <td>male</td>\n",
       "      <td>group D</td>\n",
       "      <td>bachelor's degree</td>\n",
       "      <td>standard</td>\n",
       "      <td>completed</td>\n",
       "      <td>100</td>\n",
       "      <td>100</td>\n",
       "      <td>100</td>\n",
       "    </tr>\n",
       "    <tr>\n",
       "      <th>389</th>\n",
       "      <td>female</td>\n",
       "      <td>group D</td>\n",
       "      <td>high school</td>\n",
       "      <td>standard</td>\n",
       "      <td>completed</td>\n",
       "      <td>91</td>\n",
       "      <td>100</td>\n",
       "      <td>100</td>\n",
       "    </tr>\n",
       "    <tr>\n",
       "      <th>472</th>\n",
       "      <td>male</td>\n",
       "      <td>group D</td>\n",
       "      <td>bachelor's degree</td>\n",
       "      <td>standard</td>\n",
       "      <td>completed</td>\n",
       "      <td>98</td>\n",
       "      <td>96</td>\n",
       "      <td>100</td>\n",
       "    </tr>\n",
       "    <tr>\n",
       "      <th>566</th>\n",
       "      <td>male</td>\n",
       "      <td>group D</td>\n",
       "      <td>associate's degree</td>\n",
       "      <td>standard</td>\n",
       "      <td>completed</td>\n",
       "      <td>99</td>\n",
       "      <td>100</td>\n",
       "      <td>100</td>\n",
       "    </tr>\n",
       "    <tr>\n",
       "      <th>732</th>\n",
       "      <td>female</td>\n",
       "      <td>group D</td>\n",
       "      <td>associate's degree</td>\n",
       "      <td>standard</td>\n",
       "      <td>completed</td>\n",
       "      <td>82</td>\n",
       "      <td>95</td>\n",
       "      <td>100</td>\n",
       "    </tr>\n",
       "    <tr>\n",
       "      <th>809</th>\n",
       "      <td>female</td>\n",
       "      <td>group E</td>\n",
       "      <td>some college</td>\n",
       "      <td>standard</td>\n",
       "      <td>completed</td>\n",
       "      <td>96</td>\n",
       "      <td>98</td>\n",
       "      <td>100</td>\n",
       "    </tr>\n",
       "    <tr>\n",
       "      <th>835</th>\n",
       "      <td>female</td>\n",
       "      <td>group D</td>\n",
       "      <td>bachelor's degree</td>\n",
       "      <td>standard</td>\n",
       "      <td>completed</td>\n",
       "      <td>83</td>\n",
       "      <td>100</td>\n",
       "      <td>100</td>\n",
       "    </tr>\n",
       "    <tr>\n",
       "      <th>857</th>\n",
       "      <td>male</td>\n",
       "      <td>group E</td>\n",
       "      <td>bachelor's degree</td>\n",
       "      <td>standard</td>\n",
       "      <td>completed</td>\n",
       "      <td>100</td>\n",
       "      <td>100</td>\n",
       "      <td>100</td>\n",
       "    </tr>\n",
       "    <tr>\n",
       "      <th>899</th>\n",
       "      <td>female</td>\n",
       "      <td>group B</td>\n",
       "      <td>some college</td>\n",
       "      <td>standard</td>\n",
       "      <td>completed</td>\n",
       "      <td>92</td>\n",
       "      <td>100</td>\n",
       "      <td>100</td>\n",
       "    </tr>\n",
       "    <tr>\n",
       "      <th>987</th>\n",
       "      <td>female</td>\n",
       "      <td>group D</td>\n",
       "      <td>master's degree</td>\n",
       "      <td>standard</td>\n",
       "      <td>completed</td>\n",
       "      <td>87</td>\n",
       "      <td>95</td>\n",
       "      <td>100</td>\n",
       "    </tr>\n",
       "  </tbody>\n",
       "</table>\n",
       "</div>"
      ],
      "text/plain": [
       "     gender race/ethnicity parental level of education     lunch  \\\n",
       "115  female        group E           bachelor's degree  standard   \n",
       "156  female        group B          associate's degree  standard   \n",
       "292  female        group E          associate's degree  standard   \n",
       "378    male        group D           bachelor's degree  standard   \n",
       "389  female        group D                 high school  standard   \n",
       "472    male        group D           bachelor's degree  standard   \n",
       "566    male        group D          associate's degree  standard   \n",
       "732  female        group D          associate's degree  standard   \n",
       "809  female        group E                some college  standard   \n",
       "835  female        group D           bachelor's degree  standard   \n",
       "857    male        group E           bachelor's degree  standard   \n",
       "899  female        group B                some college  standard   \n",
       "987  female        group D             master's degree  standard   \n",
       "\n",
       "    test preparation course  math score  reading score  writing score  \n",
       "115                    none          98             95            100  \n",
       "156               completed          91             99            100  \n",
       "292                    none          96             93            100  \n",
       "378               completed         100            100            100  \n",
       "389               completed          91            100            100  \n",
       "472               completed          98             96            100  \n",
       "566               completed          99            100            100  \n",
       "732               completed          82             95            100  \n",
       "809               completed          96             98            100  \n",
       "835               completed          83            100            100  \n",
       "857               completed         100            100            100  \n",
       "899               completed          92            100            100  \n",
       "987               completed          87             95            100  "
      ]
     },
     "execution_count": 19,
     "metadata": {},
     "output_type": "execute_result"
    }
   ],
   "source": [
    "find(99,100,100)"
   ]
  }
 ],
 "metadata": {
  "kernelspec": {
   "display_name": "Python 3",
   "language": "python",
   "name": "python3"
  },
  "language_info": {
   "codemirror_mode": {
    "name": "ipython",
    "version": 3
   },
   "file_extension": ".py",
   "mimetype": "text/x-python",
   "name": "python",
   "nbconvert_exporter": "python",
   "pygments_lexer": "ipython3",
   "version": "3.7.12"
  },
  "papermill": {
   "default_parameters": {},
   "duration": 18.166872,
   "end_time": "2023-04-30T09:15:34.771816",
   "environment_variables": {},
   "exception": null,
   "input_path": "__notebook__.ipynb",
   "output_path": "__notebook__.ipynb",
   "parameters": {},
   "start_time": "2023-04-30T09:15:16.604944",
   "version": "2.4.0"
  }
 },
 "nbformat": 4,
 "nbformat_minor": 5
}
